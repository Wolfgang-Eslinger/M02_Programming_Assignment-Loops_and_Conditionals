{
 "cells": [
  {
   "cell_type": "code",
   "execution_count": 3,
   "id": "8b8e5e24",
   "metadata": {
    "scrolled": true
   },
   "outputs": [
    {
     "name": "stdout",
     "output_type": "stream",
     "text": [
      "too high\n"
     ]
    }
   ],
   "source": [
    "# 4.1 Choose a number between 1 and 10 and assign it to the variable secret. Then, select another number between 1 and 10 and assign it to the variable guess. Next, write the conditional tests (if, else, and elif) to print the string 'too low' if guess is less than secret, 'too high' if greater than secret, and 'just right' if equal to secret.\n",
    "\n",
    "guess = 7\n",
    "secret = 3\n",
    "\n",
    "if guess < secret:\n",
    "    print('too low')\n",
    "elif guess > secret:\n",
    "    print('too high')\n",
    "else:\n",
    "    print('just right')\n"
   ]
  },
  {
   "cell_type": "code",
   "execution_count": 5,
   "id": "e66b43d9",
   "metadata": {},
   "outputs": [
    {
     "name": "stdout",
     "output_type": "stream",
     "text": [
      "pea\n"
     ]
    }
   ],
   "source": [
    "# 4.2 Assign True or False to the variables small and green. Write some if/else statements to print which of these matches those choices: cherry, pea, watermelon, pumpkin.\n",
    "\n",
    "# Assign True or False to the variables small and green\n",
    "small = True  # or False\n",
    "green = True  # or False\n",
    "\n",
    "# Use if/else statements to find the object at hand, aka result\n",
    "if small:\n",
    "    if green:\n",
    "        print('pea')  # Small and green\n",
    "    else:\n",
    "        print('cherry')  # Small and not green\n",
    "else:\n",
    "    if green:\n",
    "        print('watermelon')  # Not small and green\n",
    "    else:\n",
    "        print('pumpkin')  # Not small and not green\n"
   ]
  },
  {
   "cell_type": "code",
   "execution_count": 7,
   "id": "899145d3",
   "metadata": {},
   "outputs": [
    {
     "name": "stdout",
     "output_type": "stream",
     "text": [
      "3\n",
      "2\n",
      "1\n",
      "0\n"
     ]
    }
   ],
   "source": [
    "# 6.1 Use a for loop to print the values of the list [3, 2, 1, 0].\n",
    "\n",
    "# List of values\n",
    "values = [3, 2, 1, 0]\n",
    "\n",
    "# Using a for loop to print the values\n",
    "for value in values:\n",
    "    print(value)\n"
   ]
  },
  {
   "cell_type": "code",
   "execution_count": 8,
   "id": "ed726ed4",
   "metadata": {
    "scrolled": true
   },
   "outputs": [
    {
     "name": "stdout",
     "output_type": "stream",
     "text": [
      "too low\n",
      "too low\n",
      "too low\n",
      "too low\n",
      "too low\n",
      "too low\n",
      "found it!\n"
     ]
    }
   ],
   "source": [
    "# 6.2 Assign the value 7 to the variable guess_me, and the value 1 to the variable number. Write a while loop that compares number with guess_me. Print 'too low' if number is less than guess me. If number equals guess_me, print 'found it!' and then exit the loop. If number is greater than guess_me, print 'oops' and then exit the loop. Increment number at the end of the loop.\n",
    "\n",
    "# Assigning values to guess_me and number\n",
    "guess_me = 7\n",
    "number = 1\n",
    "\n",
    "# Writing a while loop to compare number with guess_me\n",
    "while True:\n",
    "    if number < guess_me:\n",
    "        print('too low')\n",
    "    elif number == guess_me:\n",
    "        print('found it!')\n",
    "        break\n",
    "    else:  # number > guess_me\n",
    "        print('oops')\n",
    "        break\n",
    "    number += 1  # Increment number at the end of the loop\n"
   ]
  },
  {
   "cell_type": "code",
   "execution_count": 9,
   "id": "750719be",
   "metadata": {},
   "outputs": [
    {
     "name": "stdout",
     "output_type": "stream",
     "text": [
      "too low\n",
      "too low\n",
      "too low\n",
      "too low\n",
      "too low\n",
      "found it!\n"
     ]
    }
   ],
   "source": [
    "# 6.3 Assign the value 5 to the variable guess_me. Use a for loop to iterate a variable called number over range(10). If number is less than guess_me, print 'too low'. If it equals guess_me, print found it! and then break out of the for loop. If number is greater than guess_me, print 'oops' and then exit the loop.\n",
    "\n",
    "# Assigning the value 5 to guess_me\n",
    "guess_me = 5\n",
    "\n",
    "# Using a for loop to iterate over range(10)\n",
    "for number in range(10):\n",
    "    if number < guess_me:\n",
    "        print('too low')\n",
    "    elif number == guess_me:\n",
    "        print('found it!')\n",
    "        break\n",
    "    else:  # number > guess_me\n",
    "        print('oops')\n",
    "        break\n"
   ]
  },
  {
   "cell_type": "markdown",
   "id": "43c5819c",
   "metadata": {},
   "source": []
  }
 ],
 "metadata": {
  "kernelspec": {
   "display_name": "Python 3 (ipykernel)",
   "language": "python",
   "name": "python3"
  },
  "language_info": {
   "codemirror_mode": {
    "name": "ipython",
    "version": 3
   },
   "file_extension": ".py",
   "mimetype": "text/x-python",
   "name": "python",
   "nbconvert_exporter": "python",
   "pygments_lexer": "ipython3",
   "version": "3.8.18"
  }
 },
 "nbformat": 4,
 "nbformat_minor": 5
}
